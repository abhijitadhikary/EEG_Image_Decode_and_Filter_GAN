{
 "cells": [
  {
   "cell_type": "code",
   "execution_count": null,
   "metadata": {},
   "outputs": [],
   "source": [
    "import numpy as np\n",
    "from scipy.io import loadmat\n",
    "import pandas as pd\n",
    "import cv2\n",
    "import os\n",
    "import matplotlib.pyplot as plt\n",
    "from tqdm import tqdm\n",
    "\n",
    "%matplotlib inline"
   ]
  },
  {
   "cell_type": "code",
   "execution_count": null,
   "metadata": {},
   "outputs": [],
   "source": [
    "def normalize_image(image):\n",
    "    image = np.copy(image)\n",
    "    image = ((image - image.min()) / (image.max() - image.min())) * 255\n",
    "    return image\n",
    "\n",
    "def create_directory(path):\n",
    "    if not os.path.exists(path):\n",
    "        os.makedirs(path)\n",
    "        print(f'Directory created: {path}')\n",
    "    else:\n",
    "        print(f'Directory already exists: {path}')\n",
    "\n",
    "def create_dataset(variant=''):\n",
    "    mat_dir = os.path.join('data', 'mat')\n",
    "    create_directory(mat_dir)\n",
    "    mat_filename = f'uci_eeg_images_{variant}_within.mat'\n",
    "    mat_path = os.path.join(mat_dir, mat_filename)\n",
    "    mat = loadmat(mat_path)\n",
    "    \n",
    "    # extract features\n",
    "    images = mat['data']\n",
    "    label_alcoholism = mat['label_alcoholism']\n",
    "    label_stimulus = mat['label_stimulus']\n",
    "    label_id = mat['label_id']\n",
    "    num_samples = len(label_id)\n",
    "    \n",
    "    # create dataframe\n",
    "    all_labels = np.hstack([np.arange(num_samples).reshape(-1, 1), label_alcoholism, label_stimulus, label_id])\n",
    "    column_names = ['filename', 'alcoholism', 'stimulus', 'id']\n",
    "    df = pd.DataFrame(all_labels, columns=column_names)\n",
    "    \n",
    "    filenames = [f'{variant}_{index}.png' for index in range(num_samples)]\n",
    "    df['filename'] = filenames\n",
    "    \n",
    "    # save dataframe\n",
    "    save_dir_df = os.path.join('data', 'df')\n",
    "    create_directory(save_dir_df)\n",
    "    df_filename = f'{variant}.csv'\n",
    "    df_path = os.path.join(save_dir_df, df_filename)\n",
    "    df.to_csv(df_path)\n",
    "    \n",
    "    # save images as numpy array\n",
    "    save_dir_np = os.path.join('data', 'numpy')\n",
    "    create_directory(save_dir_np)\n",
    "    np_filename = f'{variant}.npy'\n",
    "    np_path = os.path.join(save_dir_np, np_filename)\n",
    "    np.save(np_path, images)\n",
    "    \n",
    "    # save images as png\n",
    "    save_dir_image = os.path.join('data', 'images', variant)\n",
    "    create_directory(save_dir_image)\n",
    "        \n",
    "    for index, image in tqdm(enumerate(images), total=len(images)):\n",
    "        image = normalize_image(image)\n",
    "        current_filename = f'{variant}_{index}.png'\n",
    "        current_image_path = os.path.join(save_dir_image, current_filename)\n",
    "        cv2.imwrite(current_image_path, image)\n",
    "        \n",
    "    \n",
    "variants = ['train', 'test', 'validation']\n",
    "[create_dataset(variant) for variant in variants]"
   ]
  },
  {
   "cell_type": "code",
   "execution_count": null,
   "metadata": {},
   "outputs": [],
   "source": [
    "images = np.load('data/numpy/train.npy')\n",
    "# image = cv2.imread('data/images/train/train_3.png')\n",
    "image = images[3]\n",
    "plt.imshow(image)"
   ]
  },
  {
   "cell_type": "code",
   "execution_count": null,
   "metadata": {},
   "outputs": [],
   "source": []
  },
  {
   "cell_type": "code",
   "execution_count": null,
   "metadata": {},
   "outputs": [],
   "source": []
  }
 ],
 "metadata": {
  "kernelspec": {
   "display_name": "Python 3",
   "language": "python",
   "name": "python3"
  },
  "language_info": {
   "codemirror_mode": {
    "name": "ipython",
    "version": 3
   },
   "file_extension": ".py",
   "mimetype": "text/x-python",
   "name": "python",
   "nbconvert_exporter": "python",
   "pygments_lexer": "ipython3",
   "version": "3.8.5"
  }
 },
 "nbformat": 4,
 "nbformat_minor": 4
}
